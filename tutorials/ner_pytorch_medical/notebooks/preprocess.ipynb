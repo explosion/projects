{
 "cells": [
  {
   "cell_type": "code",
   "execution_count": 3,
   "id": "096fd46d-f762-40e9-bd2e-c95c9d58c0b8",
   "metadata": {},
   "outputs": [
    {
     "name": "stdout",
     "output_type": "stream",
     "text": [
      "Requirement already satisfied: nltk in /home/kabirkhan/Documents/Consulting/Explosion/projects/tutorials/ner_pytorch_medical/.venv/lib/python3.7/site-packages (3.6.2)\n",
      "Requirement already satisfied: pandas in /home/kabirkhan/Documents/Consulting/Explosion/projects/tutorials/ner_pytorch_medical/.venv/lib/python3.7/site-packages (1.2.4)\n",
      "Requirement already satisfied: tqdm in /home/kabirkhan/Documents/Consulting/Explosion/projects/tutorials/ner_pytorch_medical/.venv/lib/python3.7/site-packages (from nltk) (4.60.0)\n",
      "Requirement already satisfied: regex in /home/kabirkhan/Documents/Consulting/Explosion/projects/tutorials/ner_pytorch_medical/.venv/lib/python3.7/site-packages (from nltk) (2021.4.4)\n",
      "Requirement already satisfied: click in /home/kabirkhan/Documents/Consulting/Explosion/projects/tutorials/ner_pytorch_medical/.venv/lib/python3.7/site-packages (from nltk) (7.1.2)\n",
      "Requirement already satisfied: joblib in /home/kabirkhan/Documents/Consulting/Explosion/projects/tutorials/ner_pytorch_medical/.venv/lib/python3.7/site-packages (from nltk) (1.0.1)\n",
      "Requirement already satisfied: python-dateutil>=2.7.3 in /home/kabirkhan/Documents/Consulting/Explosion/projects/tutorials/ner_pytorch_medical/.venv/lib/python3.7/site-packages (from pandas) (2.8.1)\n",
      "Requirement already satisfied: numpy>=1.16.5 in /home/kabirkhan/Documents/Consulting/Explosion/projects/tutorials/ner_pytorch_medical/.venv/lib/python3.7/site-packages (from pandas) (1.20.3)\n",
      "Requirement already satisfied: pytz>=2017.3 in /home/kabirkhan/Documents/Consulting/Explosion/projects/tutorials/ner_pytorch_medical/.venv/lib/python3.7/site-packages (from pandas) (2021.1)\n",
      "Requirement already satisfied: six>=1.5 in /home/kabirkhan/Documents/Consulting/Explosion/projects/tutorials/ner_pytorch_medical/.venv/lib/python3.7/site-packages (from python-dateutil>=2.7.3->pandas) (1.16.0)\n",
      "\u001b[33mWARNING: You are using pip version 21.0.1; however, version 21.1.1 is available.\n",
      "You should consider upgrading via the '/home/kabirkhan/Documents/Consulting/Explosion/projects/tutorials/ner_pytorch_medical/.venv/bin/python -m pip install --upgrade pip' command.\u001b[0m\n"
     ]
    }
   ],
   "source": [
    "!pip install nltk pandas"
   ]
  },
  {
   "cell_type": "code",
   "execution_count": 8,
   "id": "596c6ef5-6abc-41f9-87b6-e0e081f07e15",
   "metadata": {},
   "outputs": [],
   "source": [
    "import glob  # Finds all the pathnames matching a specified pattern, \n",
    "             # typically specified with regex (re) \n",
    "from pathlib import Path\n",
    "import re\n",
    "import pandas as pd\n",
    "from nltk import pos_tag\n",
    "from nltk.chunk.regexp import RegexpChunkParser, ChunkRule, RegexpParser\n",
    "from nltk.tree import Tree\n",
    "import numpy as np\n",
    "\n",
    "pd.set_option('max_colwidth', None)  # Remove any limitation on length \n",
    "                                     # of text displayed in a cell\n",
    "pd.set_option('max_rows', 300)  # Display up to 300 rows in a dataset"
   ]
  },
  {
   "cell_type": "code",
   "execution_count": 10,
   "id": "45fe6859-0486-463a-bc20-abb800690c3e",
   "metadata": {},
   "outputs": [],
   "source": [
    "input_dir = Path('../assets/n2c2_2011/')\n",
    "output_dir = input_dir / 'output'\n",
    "\n",
    "base_str = 'clinical-' "
   ]
  },
  {
   "cell_type": "code",
   "execution_count": null,
   "id": "cdb978bd-f88b-4408-829a-3ed6f8162430",
   "metadata": {},
   "outputs": [],
   "source": [
    "# Annotation format:\n",
    "# c= “<Markable>” <StartLineOffset>:<StartWordOffset>\n",
    "# <EndLineOffset>:<EndWordOffset>||t=“<Class>”\n"
   ]
  },
  {
   "cell_type": "code",
   "execution_count": 65,
   "id": "297974bd-6078-4c89-82c2-22d250656f1c",
   "metadata": {},
   "outputs": [
    {
     "data": {
      "text/plain": [
       "'Chief Complaint :'"
      ]
     },
     "execution_count": 65,
     "metadata": {},
     "output_type": "execute_result"
    }
   ],
   "source": [
    "anns = input_dir / \"Beth_Train\" / \"concepts\" / \"clinical-103.txt.con\"\n",
    "p = input_dir / \"Beth_Train\" / \"docs\" / \"clinical-103.txt\"\n",
    "lines = p.open().read().splitlines()\n",
    "text = p.open().read()\n",
    "annotations = anns.open().read().splitlines()\n",
    "\n",
    "lines[13]"
   ]
  },
  {
   "cell_type": "code",
   "execution_count": 125,
   "id": "84335ef0-5d3e-4a00-8cad-86684c6d0268",
   "metadata": {},
   "outputs": [],
   "source": [
    "from collections import defaultdict\n",
    "from typing import List\n",
    "from spacy.language import Language\n",
    "from spacy.tokens import Doc, DocBin, Span\n",
    "from spacy.util import filter_spans\n",
    "\n",
    "\n",
    "def docs_from_clinical_record(lines: List[str], annotations: List[str], merge_docs: bool = False) -> List[Doc]:\n",
    "    docs = []\n",
    "    spans_by_line = defaultdict(list)\n",
    "\n",
    "    for row in annotations:    \n",
    "        row = row.split(\"||\")\n",
    "        text_info = row[0]\n",
    "        type_info = row[1]\n",
    "\n",
    "        text = text_info.split('\"')[1]\n",
    "\n",
    "        offset_start = text_info.split(' ')[-2]\n",
    "        offset_end = text_info.split(' ')[-1]\n",
    "\n",
    "        start_line, word_start = offset_start.split(\":\")\n",
    "        end_line, word_end = offset_end.split(\":\")\n",
    "\n",
    "        label = type_info.split('\"')[-2]\n",
    "\n",
    "        if start_line != end_line:\n",
    "            print(\"different line numbers\")\n",
    "            print(row)\n",
    "            continue\n",
    "\n",
    "\n",
    "        else:\n",
    "            spans_by_line[int(start_line)].append((int(word_start), int(word_end), label))\n",
    "\n",
    "    for i, line in enumerate(lines):\n",
    "        n = i + 1\n",
    "        doc = nlp.make_doc(line)\n",
    "        if n in spans_by_line:\n",
    "            ents = [Span(doc, start, end + 1, label=label) for (start, end, label) in spans_by_line[n]]\n",
    "            ents = [e for e in ents if bool(e.text.strip()) and e.text.strip() == e.text]\n",
    "            doc.ents = filter_spans(ents)\n",
    "\n",
    "        docs.append(doc)\n",
    "        \n",
    "    return [Doc.from_docs(docs)] if merge_docs else docs\n",
    "\n",
    "\n",
    "docs = docs_from_clinical_record(lines, annotations, False)"
   ]
  },
  {
   "cell_type": "code",
   "execution_count": 126,
   "id": "6d5f7a17-8ebb-4224-ab41-375904e26bef",
   "metadata": {},
   "outputs": [
    {
     "name": "stdout",
     "output_type": "stream",
     "text": [
      "different line numbers\n",
      "['c=\"naa naricha early , m.d.\" 140:1 141:0', 't=\"person\"']\n",
      "different line numbers\n",
      "['c=\"vit. b-3\" 41:4 42:0', 't=\"treatment\"']\n",
      "different line numbers\n",
      "['c=\"chronic inflammatory disease\" 71:18 72:0', 't=\"problem\"']\n",
      "different line numbers\n",
      "['c=\"a lower extremity angiography\" 18:17 19:1', 't=\"test\"']\n",
      "different line numbers\n",
      "['c=\"an exploratory laparotomy\" 31:33 32:1', 't=\"test\"']\n",
      "different line numbers\n",
      "['c=\"physical therapy\" 86:28 87:0', 't=\"treatment\"']\n",
      "different line numbers\n",
      "['c=\"vit . b-3\" 45:2 46:0', 't=\"treatment\"']\n",
      "different line numbers\n",
      "['c=\"vit . b-3\" 38:2 39:0', 't=\"treatment\"']\n",
      "different line numbers\n",
      "['c=\"staph . sepsis\" 6:1 7:0', 't=\"problem\"']\n",
      "different line numbers\n",
      "['c=\"vit . b-3\" 59:2 60:0', 't=\"treatment\"']\n",
      "different line numbers\n",
      "['c=\"vit . b-3\" 69:2 70:0', 't=\"treatment\"']\n",
      "different line numbers\n",
      "['c=\"vit . b-3\" 36:4 37:0', 't=\"treatment\"']\n",
      "different line numbers\n",
      "['c=\"vit . b-3\" 46:2 47:0', 't=\"treatment\"']\n",
      "different line numbers\n",
      "['c=\"a 27 mm . st. jude prosthesis\" 35:8 36:2', 't=\"treatment\"']\n"
     ]
    },
    {
     "data": {
      "text/plain": [
       "(251, 173)"
      ]
     },
     "execution_count": 126,
     "metadata": {},
     "output_type": "execute_result"
    }
   ],
   "source": [
    "def docs_from_many_clinical_records(base_path: Path, nlp: Language = spacy.blank(\"en\"), merge_docs: bool = True):\n",
    "    \n",
    "    all_docs = []\n",
    "    concept_paths = sorted((base_path / \"concepts\").glob(\"*.txt.con\"))\n",
    "    document_paths = sorted((base_path / \"docs\").glob(\"*.txt\"))\n",
    "\n",
    "    for con_path, doc_path in zip(concept_paths, document_paths):\n",
    "        annotations = con_path.open().read().splitlines()\n",
    "        lines = doc_path.open().read().splitlines()\n",
    "\n",
    "        docs = docs_from_clinical_record(lines, annotations, merge_docs=merge_docs)\n",
    "        all_docs += docs\n",
    "\n",
    "    return all_docs\n",
    "\n",
    "\n",
    "\n",
    "beth_train_docs = docs_from_many_clinical_records(input_dir / \"Beth_Train\")\n",
    "partners_train_docs = docs_from_many_clinical_records(input_dir / \"Partners_Train\")\n",
    "train_docs = beth_train_docs + partners_train_docs\n",
    "\n",
    "beth_test_docs = docs_from_many_clinical_records(input_dir / \"Task_1C/i2b2_Test/i2b2_Beth_Test\")\n",
    "partners_test_docs = docs_from_many_clinical_records(input_dir / \"Task_1C/i2b2_Test/i2b2_Partners_Test\")\n",
    "test_docs = beth_test_docs + partners_test_docs\n",
    "\n",
    "len(train_docs), len(test_docs)"
   ]
  },
  {
   "cell_type": "code",
   "execution_count": 127,
   "id": "d4be1938-4c3e-41ca-b071-4b593d5277cb",
   "metadata": {},
   "outputs": [
    {
     "data": {
      "text/plain": [
       "(200, 51, 173)"
      ]
     },
     "execution_count": 127,
     "metadata": {},
     "output_type": "execute_result"
    }
   ],
   "source": [
    "import random\n",
    "random.seed(42)\n",
    "random.shuffle(train_docs)\n",
    "train_docs, dev_docs = train_docs[:200], train_docs[200:]\n",
    "\n",
    "len(train_docs), len(dev_docs), len(test_docs)"
   ]
  },
  {
   "cell_type": "code",
   "execution_count": 128,
   "id": "aae844f9-76d4-4d89-bef6-56e4b624f0d4",
   "metadata": {},
   "outputs": [],
   "source": [
    "DocBin(docs=train_docs).to_disk(\"../corpus/train.spacy\")\n",
    "DocBin(docs=dev_docs).to_disk(\"../corpus/dev.spacy\")\n",
    "DocBin(docs=test_docs).to_disk(\"../corpus/test.spacy\")"
   ]
  },
  {
   "cell_type": "code",
   "execution_count": 7,
   "id": "a1d25337-75e6-42b3-bccb-46a1d5a71969",
   "metadata": {},
   "outputs": [
    {
     "name": "stdout",
     "output_type": "stream",
     "text": [
      "Count of concept files with corresponding doc: 0\n"
     ]
    }
   ],
   "source": [
    "a_ids = []\n",
    "e_ids = []\n",
    "\n",
    "# Use regex to create doc id \n",
    "\n",
    "for con in a_corpus:\n",
    "    f_id = re.findall(r'\\d+', con)[0]\n",
    "    a_ids.append(f_id)\n",
    "for doc in e_corpus:\n",
    "    f_id = re.findall(r'\\d+', doc)[0]\n",
    "    e_ids.append(f_id)\n",
    "    \n",
    "a_ids = tuple(sorted(a_ids)) \n",
    "e_ids = tuple(sorted(e_ids))\n",
    "\n",
    "intersection = list(set(a_ids) & set(e_ids))\n",
    "if len(intersection) == len(a_ids):\n",
    "    print(\"Count of concept files with corresponding doc:\", len(intersection))"
   ]
  },
  {
   "cell_type": "code",
   "execution_count": null,
   "id": "042c6444-15c5-43d6-8d06-014800a28596",
   "metadata": {},
   "outputs": [],
   "source": []
  }
 ],
 "metadata": {
  "kernelspec": {
   "display_name": "Python 3",
   "language": "python",
   "name": "python3"
  },
  "language_info": {
   "codemirror_mode": {
    "name": "ipython",
    "version": 3
   },
   "file_extension": ".py",
   "mimetype": "text/x-python",
   "name": "python",
   "nbconvert_exporter": "python",
   "pygments_lexer": "ipython3",
   "version": "3.7.5"
  }
 },
 "nbformat": 4,
 "nbformat_minor": 5
}
