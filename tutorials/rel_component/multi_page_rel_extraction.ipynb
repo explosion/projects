{
 "cells": [
  {
   "cell_type": "code",
   "execution_count": 1,
   "id": "57115b38-99aa-4e1b-814e-1111cfa9511b",
   "metadata": {},
   "outputs": [],
   "source": [
    "import json"
   ]
  },
  {
   "cell_type": "code",
   "execution_count": 2,
   "id": "6670bc00-d3e1-4c35-b43f-f984f937162b",
   "metadata": {},
   "outputs": [],
   "source": [
    "import spacy\n",
    "from spacy import displacy\n",
    "from spacy.matcher import Matcher\n",
    "from spacy.tokens import Span"
   ]
  },
  {
   "cell_type": "code",
   "execution_count": 5,
   "id": "6f806f55-e72d-4d1f-9857-e4609679ce47",
   "metadata": {},
   "outputs": [],
   "source": [
    "import json\n",
    "from collections import defaultdict\n",
    "from spacy.matcher import PhraseMatcher"
   ]
  },
  {
   "cell_type": "code",
   "execution_count": 9,
   "id": "3aede6f9-f509-476d-8697-71c699db0c6e",
   "metadata": {},
   "outputs": [],
   "source": [
    "import os\n",
    "import glob"
   ]
  },
  {
   "cell_type": "code",
   "execution_count": 15,
   "id": "21a2fd32-e51f-4f97-8c26-f12676ee68bf",
   "metadata": {},
   "outputs": [],
   "source": [
    "from collections import defaultdict"
   ]
  },
  {
   "cell_type": "code",
   "execution_count": 4,
   "id": "65efcfab-c76d-4656-820c-a8159c89b8ff",
   "metadata": {},
   "outputs": [],
   "source": [
    "nlp = spacy.load('en_core_web_lg')"
   ]
  },
  {
   "cell_type": "code",
   "execution_count": 7,
   "id": "b07aa055-c51e-48c3-bb68-5be40a338ee3",
   "metadata": {},
   "outputs": [
    {
     "data": {
      "text/plain": [
       "'/home/ec2-user/spacy-projects/tutorials/rel_component'"
      ]
     },
     "execution_count": 7,
     "metadata": {},
     "output_type": "execute_result"
    }
   ],
   "source": [
    "os.getcwd()"
   ]
  },
  {
   "cell_type": "code",
   "execution_count": 12,
   "id": "59259cb2-0970-4b4c-ad73-171c5eb58719",
   "metadata": {},
   "outputs": [],
   "source": [
    "file_list = glob.glob(\"/home/ec2-user/ebs/ocr_data/12009/*.ocr\")"
   ]
  },
  {
   "cell_type": "code",
   "execution_count": 14,
   "id": "1e578a7a-b0c4-4ab9-9e37-35fe3bb1b533",
   "metadata": {},
   "outputs": [
    {
     "data": {
      "text/plain": [
       "181"
      ]
     },
     "execution_count": 14,
     "metadata": {},
     "output_type": "execute_result"
    }
   ],
   "source": [
    "len(file_list)"
   ]
  },
  {
   "cell_type": "code",
   "execution_count": 22,
   "id": "5713371c-3e12-4032-89ea-63cdcf03cdf9",
   "metadata": {},
   "outputs": [],
   "source": [
    "ocr_dict = defaultdict(list)\n",
    "for filename in file_list:\n",
    "    with open(filename, 'r') as fp:\n",
    "        page_data = json.load(fp)\n",
    "        blocks = page_data.get('Blocks', [])\n",
    "        for block in blocks:\n",
    "            if 'Text' in block:\n",
    "                ocr_dict[filename].append({'text':block['Text'], 'geometry':block['Geometry']})"
   ]
  },
  {
   "cell_type": "code",
   "execution_count": 24,
   "id": "178f751b-bf27-4e56-a9b7-7533b4d2bb5c",
   "metadata": {},
   "outputs": [],
   "source": [
    "# ocr_dict['/home/ec2-user/ebs/ocr_data/12009/12009_dvm_dez_GenMono001490-00001-1.ocr']"
   ]
  },
  {
   "cell_type": "code",
   "execution_count": 25,
   "id": "b8d4b8b3-a8b9-4d19-a258-06d5bc2cfcde",
   "metadata": {},
   "outputs": [
    {
     "data": {
      "text/plain": [
       "'/home/ec2-user/spacy-projects/tutorials/rel_component'"
      ]
     },
     "execution_count": 25,
     "metadata": {},
     "output_type": "execute_result"
    }
   ],
   "source": [
    "os.getcwd()"
   ]
  },
  {
   "cell_type": "code",
   "execution_count": 27,
   "id": "0a34dc52-5588-4e78-9e9a-0c5b5ec3cc9b",
   "metadata": {},
   "outputs": [],
   "source": [
    "os.chdir('/home/ec2-user/spacy-projects/tutorials/rel_component/scripts')"
   ]
  },
  {
   "cell_type": "code",
   "execution_count": 28,
   "id": "fd2d8f1b-66ac-4eb0-9ca0-6fdc134bd6d0",
   "metadata": {},
   "outputs": [],
   "source": [
    "import random\n",
    "import typer\n",
    "from pathlib import Path\n",
    "import spacy\n",
    "from spacy.tokens import DocBin, Doc\n",
    "from spacy.training.example import Example\n",
    "\n",
    "# make the factory work\n",
    "from rel_pipe import make_relation_extractor, score_relations\n",
    "\n",
    "# make the config work\n",
    "from rel_model import create_relation_model, create_classification_layer, create_instances, create_tensors"
   ]
  },
  {
   "cell_type": "code",
   "execution_count": 29,
   "id": "e452a18b-4cb7-43cf-9faa-0de5ef4cac31",
   "metadata": {},
   "outputs": [],
   "source": [
    "matcher_lemma = PhraseMatcher(nlp.vocab, attr='LEMMA')\n",
    "matcher_tags = [\"BIRTH\",\n",
    "\"MARRIAGE\",\n",
    "\"DEATH\",\n",
    "\"SPOUSE\"\n",
    "\"HUSBAND\",\n",
    "\"WIFE\",\n",
    "\"CHILD\",\n",
    "\"SON\",\n",
    "\"DAUGHTER\",\n",
    "\"SIBLING\",\n",
    "\"BROTHER\",\n",
    "\"SISTER\",\n",
    "\"PARENT\",\n",
    "\"FATHER\",\n",
    "\"MOTHER\",\n",
    "\"GRANDPARENT\",\n",
    "\"GRANDFATHER\",\n",
    "\"GRANDMOTHER\",\n",
    "\"GRANDCHILD\",\n",
    "\"GRANDSON\",\n",
    "\"GRANDDAUGHTER\",\n",
    "\"COUSIN\",\n",
    "\"AUNT\",\n",
    "\"UNCLE\",\n",
    "\"NIECE\",\n",
    "\"NEPHEW\"]\n",
    "\n",
    "pattern_list = [nlp(text) for text in matcher_tags]\n",
    "matcher_lemma.add(\"patterns\", pattern_list)"
   ]
  },
  {
   "cell_type": "code",
   "execution_count": 31,
   "id": "5c15c5a6-5ac2-46fe-b4eb-0aa8b4c76ac3",
   "metadata": {},
   "outputs": [],
   "source": [
    "for file_name, file_blocks in ocr_dict.items():\n",
    "    for block in file_blocks:\n",
    "        text = block['text']\n",
    "        geometry = block['geometry']\n",
    "        doc = nlp(text)\n",
    "        matches = matcher_lemma(doc)\n",
    "        possible_entity_label_list = []\n",
    "        for match_id, start, end in matches:\n",
    "            span = doc[start:end]\n",
    "            possible_entity_label_list.append(span.text)\n",
    "        block['possible_entity_labels'] = possible_entity_label_list"
   ]
  },
  {
   "cell_type": "code",
   "execution_count": 35,
   "id": "e1e6972a-2a55-4315-815a-f1a4c6291d4d",
   "metadata": {},
   "outputs": [],
   "source": [
    "# ocr_dict['/home/ec2-user/ebs/ocr_data/12009/12009_dvm_dez_GenMono001490-00001-1.ocr'][10]"
   ]
  },
  {
   "cell_type": "code",
   "execution_count": 37,
   "id": "6a973de5-4ee7-47e8-aba6-38499e7d79a6",
   "metadata": {},
   "outputs": [],
   "source": [
    "# for file_name, file_blocks in ocr_dict.items():\n",
    "#     for block in file_blocks:\n",
    "#         if block['possible_entity_labels']:\n",
    "#             print(block['possible_entity_labels'])"
   ]
  },
  {
   "cell_type": "code",
   "execution_count": null,
   "id": "85b2fcb6-1dc3-4755-aeaa-924e6b374330",
   "metadata": {},
   "outputs": [],
   "source": []
  }
 ],
 "metadata": {
  "kernelspec": {
   "display_name": "Python 3 (ipykernel)",
   "language": "python",
   "name": "python3"
  },
  "language_info": {
   "codemirror_mode": {
    "name": "ipython",
    "version": 3
   },
   "file_extension": ".py",
   "mimetype": "text/x-python",
   "name": "python",
   "nbconvert_exporter": "python",
   "pygments_lexer": "ipython3",
   "version": "3.7.10"
  }
 },
 "nbformat": 4,
 "nbformat_minor": 5
}
